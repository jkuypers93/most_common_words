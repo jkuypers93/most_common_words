{
 "cells": [
  {
   "cell_type": "markdown",
   "id": "5818edc0-1d95-491c-87c2-d3f346a6376f",
   "metadata": {},
   "source": [
    "## 1000 most common words"
   ]
  },
  {
   "cell_type": "code",
   "execution_count": null,
   "id": "8cc1d8a9-a008-41a9-be91-6e9f82b2f083",
   "metadata": {},
   "outputs": [],
   "source": [
    "import string\n",
    "import re\n",
    "from IPython.display import HTML\n",
    "\n",
    "from nltk.corpus import machado, mac_morpho, floresta, genesis\n",
    "from nltk.text import Text\n",
    "import nltk\n",
    "import pandas as pd\n",
    "import translators as ts\n",
    "import translators.server as tss\n"
   ]
  },
  {
   "cell_type": "code",
   "execution_count": null,
   "id": "917c535f-7387-42f9-9662-f2e480166c00",
   "metadata": {},
   "outputs": [],
   "source": [
    "# download Corpuses for Portuguese\n",
    "nltk.download(['machado', 'genesis', 'mac_morpho'])\n",
    "nltk.download('stopwords')"
   ]
  },
  {
   "cell_type": "code",
   "execution_count": null,
   "id": "901ed86d-aa8b-40ec-98ee-873e101fd08b",
   "metadata": {},
   "outputs": [],
   "source": [
    "machado_05 = Text(machado.words('romance/marm05.txt'), name=\"Memórias Póstumas de Brás Cubas (1881)\")\n",
    "machado_08 = Text(machado.words('romance/marm08.txt'), name=\"Dom Casmurro (1899)\")\n",
    "genesis_text = Text(genesis.words('portuguese.txt'), name=\"Gênesis\")\n",
    "mac_morpho_test = Text(mac_morpho.words('mu94se01.txt'), name=\"Folha de Sao Paulo (1994)\")"
   ]
  },
  {
   "cell_type": "code",
   "execution_count": null,
   "id": "797d8f15-447b-481f-ba9d-433fafcdbebe",
   "metadata": {},
   "outputs": [],
   "source": [
    "# get stopwords for Portuguese\n",
    "stop_words = nltk.corpus.stopwords.words('portuguese')"
   ]
  },
  {
   "cell_type": "code",
   "execution_count": null,
   "id": "1e608b98-8e62-40a6-8f8f-1f81f71ccc0e",
   "metadata": {},
   "outputs": [],
   "source": [
    "big_corpus = machado_05.tokens + machado_08.tokens + genesis_text.tokens + mac_morpho_test.tokens\n",
    "\n",
    "# all lower case\n",
    "# total = list(map(lambda x: x.lower(), total))"
   ]
  },
  {
   "cell_type": "code",
   "execution_count": null,
   "id": "bdbf8d52-0ada-489b-943f-c40a8d965a0a",
   "metadata": {},
   "outputs": [],
   "source": [
    "# get punctuation list to remove later\n",
    "punctuation = list(string.punctuation)\n",
    "punctuation.append('...')"
   ]
  },
  {
   "cell_type": "code",
   "execution_count": null,
   "id": "4ee08458-bdcd-4bbd-ba5a-40bd896aaf35",
   "metadata": {},
   "outputs": [],
   "source": [
    "\n",
    "def clean_corpus(corpus: list, stopwords: list, punctuation: list) -> list:\n",
    "    cleaned_corpus = []\n",
    "    for word in corpus:\n",
    "        if (word not in stopwords) and (word not in punctuation) and (not bool(re.match(r'\\w*[A-Z]\\w*', word))):\n",
    "            cleaned_corpus.append(word)\n",
    "    return cleaned_corpus"
   ]
  },
  {
   "cell_type": "code",
   "execution_count": null,
   "id": "2b75d0f4-0afa-42ce-9e44-d7d7f980209d",
   "metadata": {},
   "outputs": [],
   "source": [
    "# clean tokens - remove stopwords, remove punctuation, remove Named Entities with capital letter (Names, cities, etc.)\n",
    "\n",
    "cleaned_corpus = clean_corpus(big_corpus, stop_words, punctuation)"
   ]
  },
  {
   "cell_type": "code",
   "execution_count": null,
   "id": "7c1bc751-bf4e-454c-ade2-cdd4b4cd3674",
   "metadata": {},
   "outputs": [],
   "source": [
    "word_freq = nltk.FreqDist(cleaned_corpus)\n",
    "word_freq.plot(20);"
   ]
  },
  {
   "cell_type": "code",
   "execution_count": null,
   "id": "a81b0c55-5d3d-4e75-8fb8-73c29ee0f146",
   "metadata": {},
   "outputs": [],
   "source": [
    "df = pd.DataFrame(word_freq.items(), columns=['word_pt', 'frequency'])\n",
    "df = df.sort_values(by='frequency', ascending=False).reset_index(drop=True)"
   ]
  },
  {
   "cell_type": "code",
   "execution_count": null,
   "id": "d844c870-f1dd-4ee3-a1c2-f4f1affdbba1",
   "metadata": {},
   "outputs": [],
   "source": [
    "df.head()"
   ]
  },
  {
   "cell_type": "code",
   "execution_count": null,
   "id": "763e74c9-cf51-44df-9b97-12a877c23365",
   "metadata": {},
   "outputs": [],
   "source": [
    "frequent_words = df.iloc[:600]\n",
    "frequent_words.head()"
   ]
  },
  {
   "cell_type": "code",
   "execution_count": null,
   "id": "044747d7-9ca8-4aef-8ccd-1d10a80e2b6d",
   "metadata": {},
   "outputs": [],
   "source": [
    "# https://github.com/uliontse/translators#getting-started"
   ]
  },
  {
   "cell_type": "code",
   "execution_count": null,
   "id": "59f8efd8-2fd3-4ca4-bd12-7d77d6980459",
   "metadata": {},
   "outputs": [],
   "source": [
    "# %%timeit\n",
    "# very slow - need to distribute this process\n",
    "\n",
    "frequent_words['word_en'] = frequent_words['word'].apply(lambda x: tss.google(x, from_language='pt', to_language='en'))"
   ]
  },
  {
   "cell_type": "code",
   "execution_count": null,
   "id": "de6ea04d-f59a-4d36-966f-df2f8520c6a8",
   "metadata": {},
   "outputs": [],
   "source": [
    "frequent_words = frequent_words[['word', 'word_pt', 'frequency']]\n",
    "frequent_words.to_csv('../data/pt_600_translated.csv')"
   ]
  },
  {
   "cell_type": "code",
   "execution_count": null,
   "id": "e41447be-27cf-4f09-830b-dc4a8e080f43",
   "metadata": {},
   "outputs": [],
   "source": [
    "frequent_words.to_html(buf='../data/pt_600_translated.html', classes='table table-stripped')"
   ]
  },
  {
   "cell_type": "code",
   "execution_count": null,
   "id": "332dd9f3-506b-4813-a2e4-a88068e022ca",
   "metadata": {},
   "outputs": [],
   "source": [
    "HTML(frequent_words.to_html(classes='table table-stripped'))\n"
   ]
  },
  {
   "cell_type": "code",
   "execution_count": null,
   "id": "28d6f65f-5693-44d0-86c1-8ce0651bc7d2",
   "metadata": {},
   "outputs": [],
   "source": []
  }
 ],
 "metadata": {
  "kernelspec": {
   "display_name": "Python 3 (ipykernel)",
   "language": "python",
   "name": "python3"
  },
  "language_info": {
   "codemirror_mode": {
    "name": "ipython",
    "version": 3
   },
   "file_extension": ".py",
   "mimetype": "text/x-python",
   "name": "python",
   "nbconvert_exporter": "python",
   "pygments_lexer": "ipython3",
   "version": "3.10.4"
  }
 },
 "nbformat": 4,
 "nbformat_minor": 5
}
